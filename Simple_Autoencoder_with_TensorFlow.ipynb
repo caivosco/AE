{
 "cells": [
  {
   "cell_type": "code",
   "execution_count": 20,
   "metadata": {},
   "outputs": [],
   "source": [
    "# Ref. https://medium.com/@connectwithghosh/simple-autoencoder-example-using-tensorflow-in-python-on-the-fashion-mnist-dataset-eee63b8ed9f1\n",
    "\n",
    "# To check later https://github.com/aymericdamien/TensorFlow-Examples/blob/master/examples/3_NeuralNetworks/autoencoder.py"
   ]
  },
  {
   "cell_type": "code",
   "execution_count": 2,
   "metadata": {},
   "outputs": [],
   "source": [
    "import tensorflow as tf\n",
    "import numpy as np\n",
    "import matplotlib.pyplot as plt"
   ]
  },
  {
   "cell_type": "code",
   "execution_count": 3,
   "metadata": {},
   "outputs": [
    {
     "name": "stdout",
     "output_type": "stream",
     "text": [
      "bin\t\t\t lib64\r\n",
      "etc\t\t\t pip-selfcheck.json\r\n",
      "fashion-mnist_train.csv  pyvenv.cfg\r\n",
      "include\t\t\t share\r\n",
      "lib\t\t\t Simple_Autoencoder_with_TensorFlow.ipynb\r\n"
     ]
    }
   ],
   "source": [
    "!ls"
   ]
  },
  {
   "cell_type": "code",
   "execution_count": 4,
   "metadata": {},
   "outputs": [],
   "source": [
    "import time"
   ]
  },
  {
   "cell_type": "code",
   "execution_count": 5,
   "metadata": {},
   "outputs": [],
   "source": [
    "all_images = np.loadtxt('fashion-mnist_train.csv', delimiter=',', skiprows=1)[:,1:]"
   ]
  },
  {
   "cell_type": "code",
   "execution_count": 6,
   "metadata": {},
   "outputs": [
    {
     "data": {
      "text/plain": [
       "(60000, 784)"
      ]
     },
     "execution_count": 6,
     "metadata": {},
     "output_type": "execute_result"
    }
   ],
   "source": [
    "all_images.shape"
   ]
  },
  {
   "cell_type": "code",
   "execution_count": 7,
   "metadata": {},
   "outputs": [],
   "source": [
    "%matplotlib inline"
   ]
  },
  {
   "cell_type": "code",
   "execution_count": 8,
   "metadata": {},
   "outputs": [
    {
     "data": {
      "image/png": "[encoded data removed]",
      "text/plain": [
       "<Figure size 432x288 with 1 Axes>"
      ]
     },
     "metadata": {},
     "output_type": "display_data"
    }
   ],
   "source": [
    "# view the first image\n",
    "plt.imshow(all_images[0].reshape(28,28), cmap='Greys')\n",
    "plt.show()"
   ]
  },
  {
   "cell_type": "code",
   "execution_count": 9,
   "metadata": {},
   "outputs": [],
   "source": [
    "n_nodes_inp1 = 784 #encoder\n",
    "n_nodes_hl1 = 32 #encoder\n",
    "\n",
    "n_nodes_hl2 = 32 #decoder\n",
    "n_nodes_out1 = 784 #decoder"
   ]
  },
  {
   "cell_type": "code",
   "execution_count": 10,
   "metadata": {},
   "outputs": [],
   "source": [
    "# first hidden layer has 784*32 weights and 32 biases - input to hidden\n",
    "hidden_1_layer_vals = {\n",
    "    'weights': tf.Variable(tf.random_normal([n_nodes_inp1, n_nodes_hl1])),\n",
    "    'biases': tf.Variable(tf.random_normal([n_nodes_hl1])) }\n",
    "\n",
    "\n",
    "# second hidden layer has 32*32 weights and 32 biases - hidden to hidden\n",
    "\n",
    "hidden_2_layer_vals = {\n",
    "    'weights': tf.Variable(tf.random_normal([n_nodes_hl1, n_nodes_hl2])),\n",
    "    'biases': tf.Variable(tf.random_normal([n_nodes_hl2])) }\n",
    "\n",
    "# hidden layer to output, has 32*784 weights and 784 biases \n",
    "\n",
    "output_layer_vals = { \n",
    "    'weights': tf.Variable(tf.random_normal([n_nodes_hl2, n_nodes_out1])), \n",
    "    'biases': tf.Variable(tf.random_normal([n_nodes_out1])) }"
   ]
  },
  {
   "cell_type": "code",
   "execution_count": 11,
   "metadata": {},
   "outputs": [],
   "source": [
    "#defining the neural net \n",
    "\n",
    "input_layer = tf.placeholder('float', [None, 784])\n",
    "\n",
    "layer_1 = tf.nn.sigmoid(\n",
    "    tf.add(tf.matmul(input_layer, hidden_1_layer_vals['weights']),\n",
    "    hidden_1_layer_vals['biases']))\n",
    "\n",
    "layer_2 = tf.nn.sigmoid(\n",
    "    tf.add(tf.matmul(layer_1, hidden_2_layer_vals['weights']),\n",
    "    hidden_2_layer_vals['biases']))\n",
    "\n",
    "output_layer = tf.matmul(layer_2, output_layer_vals['weights']) + output_layer_vals['biases']\n",
    "\n",
    "output_true = tf.placeholder('float', [None, 784])"
   ]
  },
  {
   "cell_type": "code",
   "execution_count": 12,
   "metadata": {},
   "outputs": [],
   "source": [
    "# ?tf.matmul Multiplies matrix `a` by matrix `b`, producing `a` * `b`."
   ]
  },
  {
   "cell_type": "code",
   "execution_count": 13,
   "metadata": {},
   "outputs": [],
   "source": [
    "# defining cost function and optimizer\n",
    "\n",
    "meansq = tf.reduce_mean(tf.square(output_layer - output_true))\n",
    "\n",
    "learn_rate = 0.1\n",
    "optimizer = tf.train.AdagradOptimizer(learn_rate).minimize(meansq)"
   ]
  },
  {
   "cell_type": "code",
   "execution_count": 14,
   "metadata": {},
   "outputs": [],
   "source": [
    "#initialising stuff and starting the session\n",
    "\n",
    "init = tf.global_variables_initializer()\n",
    "sess = tf.Session()\n",
    "sess.run(init)"
   ]
  },
  {
   "cell_type": "code",
   "execution_count": 15,
   "metadata": {},
   "outputs": [],
   "source": [
    "#defining the batch size, number of epochs and learning rate\n",
    "\n",
    "batch_size = 10\n",
    "hm_epochs = 100\n",
    "tot_images = 10000"
   ]
  },
  {
   "cell_type": "code",
   "execution_count": 16,
   "metadata": {},
   "outputs": [
    {
     "name": "stdout",
     "output_type": "stream",
     "text": [
      "Epoch 99 / 100 loss 3118687.6549072266\n",
      "The duration was 95.38908743858337\n"
     ]
    }
   ],
   "source": [
    "start_time = time.time()\n",
    "for epoch in range(hm_epochs):\n",
    "    epoch_loss = 0\n",
    "    for i in range(int(tot_images/batch_size)):\n",
    "        epoch_x = all_images[ i*batch_size : (i+1)*batch_size]\n",
    "        \n",
    "        _, c = sess.run([optimizer, meansq], feed_dict={input_layer:epoch_x,\n",
    "                                                       output_true: epoch_x})\n",
    "        epoch_loss += c\n",
    "\n",
    "print('Epoch', epoch, '/', hm_epochs, 'loss', epoch_loss)\n",
    "finish_time = time.time()\n",
    "print('The duration was', finish_time - start_time)"
   ]
  },
  {
   "cell_type": "code",
   "execution_count": 17,
   "metadata": {},
   "outputs": [],
   "source": [
    "# decoding an image\n",
    "\n",
    "any_image = all_images[599]\n",
    "\n",
    "# running though the autoencoder\n",
    "\n",
    "output_any_image = sess.run(output_layer, feed_dict={input_layer:[any_image]})\n",
    "\n",
    "encoded_any_image = sess.run(layer_1, feed_dict={input_layer:[any_image]})"
   ]
  },
  {
   "cell_type": "code",
   "execution_count": 18,
   "metadata": {},
   "outputs": [
    {
     "data": {
      "image/png": "[encoded data removed]",
      "text/plain": [
       "<Figure size 432x288 with 1 Axes>"
      ]
     },
     "metadata": {},
     "output_type": "display_data"
    }
   ],
   "source": [
    "plt.imshow(any_image.reshape(28,28), cmap='Greys')\n",
    "plt.show()"
   ]
  },
  {
   "cell_type": "code",
   "execution_count": 19,
   "metadata": {},
   "outputs": [
    {
     "name": "stdout",
     "output_type": "stream",
     "text": [
      "[[0. 1. 1. 1. 1. 0. 1. 1. 0. 1. 0. 1. 0. 1. 1. 0. 1. 0. 1. 1. 1. 0. 0. 0.\n",
      "  0. 0. 1. 1. 0. 0. 1. 1.]]\n"
     ]
    }
   ],
   "source": [
    "print(encoded_any_image) # print the encoded image"
   ]
  },
  {
   "cell_type": "code",
   "execution_count": null,
   "metadata": {},
   "outputs": [],
   "source": []
  }
 ],
 "metadata": {
  "kernelspec": {
   "display_name": "Python 3",
   "language": "python",
   "name": "python3"
  },
  "language_info": {
   "codemirror_mode": {
    "name": "ipython",
    "version": 3
   },
   "file_extension": ".py",
   "mimetype": "text/x-python",
   "name": "python",
   "nbconvert_exporter": "python",
   "pygments_lexer": "ipython3",
   "version": "3.5.2"
  }
 },
 "nbformat": 4,
 "nbformat_minor": 2
}
